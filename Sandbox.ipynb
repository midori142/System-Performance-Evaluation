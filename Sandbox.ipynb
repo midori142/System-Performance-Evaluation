{
 "cells": [
  {
   "cell_type": "code",
   "execution_count": 6,
   "metadata": {},
   "outputs": [],
   "source": [
    "import numpy as np\n",
    "import pandas as pd\n",
    "import seaborn as sns"
   ]
  },
  {
   "cell_type": "code",
   "execution_count": 15,
   "metadata": {},
   "outputs": [
    {
     "name": "stdout",
     "output_type": "stream",
     "text": [
      "[ 0  1  2  3  4  5  6  7  8  9 10 11 12 13 14 15 16 17 18 19]\n",
      "[[198 125 161  51 181  86  75 145  39  77  97  16  59  27  72  42 159  96\n",
      "  132 152]]\n"
     ]
    }
   ],
   "source": [
    "LEN = 20\n",
    "a = np.arange(LEN)\n",
    "print(a)\n",
    "b = np.random.randint(200, size=(1, LEN))\n",
    "print(b)"
   ]
  },
  {
   "cell_type": "code",
   "execution_count": 23,
   "metadata": {},
   "outputs": [],
   "source": [
    "c = []\n",
    "for l in range(LEN):\n",
    "    c.append(np.mean(b[:, l:len(b[0])]))"
   ]
  },
  {
   "cell_type": "code",
   "execution_count": 24,
   "metadata": {},
   "outputs": [
    {
     "data": {
      "text/plain": [
       "[99.5,\n",
       " 94.3157894736842,\n",
       " 92.61111111111111,\n",
       " 88.58823529411765,\n",
       " 90.9375,\n",
       " 84.93333333333334,\n",
       " 84.85714285714286,\n",
       " 85.61538461538461,\n",
       " 80.66666666666667,\n",
       " 84.45454545454545,\n",
       " 85.2,\n",
       " 83.88888888888889,\n",
       " 92.375,\n",
       " 97.14285714285714,\n",
       " 108.83333333333333,\n",
       " 116.2,\n",
       " 134.75,\n",
       " 126.66666666666667,\n",
       " 142.0,\n",
       " 152.0]"
      ]
     },
     "execution_count": 24,
     "metadata": {},
     "output_type": "execute_result"
    }
   ],
   "source": [
    "c"
   ]
  },
  {
   "cell_type": "code",
   "execution_count": 25,
   "metadata": {},
   "outputs": [],
   "source": [
    "df = pd.read_csv('log2019.csv')"
   ]
  },
  {
   "cell_type": "code",
   "execution_count": 33,
   "metadata": {},
   "outputs": [
    {
     "data": {
      "text/plain": [
       "array([ 0,  0,  0, ..., 99, 99, 99])"
      ]
     },
     "execution_count": 33,
     "metadata": {},
     "output_type": "execute_result"
    }
   ],
   "source": [
    "df['Queue length'].to_numpy()"
   ]
  },
  {
   "cell_type": "code",
   "execution_count": null,
   "metadata": {},
   "outputs": [],
   "source": []
  }
 ],
 "metadata": {
  "kernelspec": {
   "display_name": "Python 3",
   "language": "python",
   "name": "python3"
  },
  "language_info": {
   "codemirror_mode": {
    "name": "ipython",
    "version": 3
   },
   "file_extension": ".py",
   "mimetype": "text/x-python",
   "name": "python",
   "nbconvert_exporter": "python",
   "pygments_lexer": "ipython3",
   "version": "3.7.3"
  }
 },
 "nbformat": 4,
 "nbformat_minor": 2
}
